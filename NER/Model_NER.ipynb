{
 "cells": [
  {
   "cell_type": "code",
   "execution_count": 2,
   "id": "876b071c",
   "metadata": {
    "ExecuteTime": {
     "end_time": "2023-11-30T20:25:31.185692Z",
     "start_time": "2023-11-30T20:25:31.181385Z"
    }
   },
   "outputs": [],
   "source": [
    "import numpy as np\n",
    "import pandas as pd\n",
    "import matplotlib.pyplot as plt\n",
    "import nltk\n",
    "import pickle\n",
    "import os\n",
    "os.environ['TF_CPP_MIN_LOG_LEVEL'] = '1' \n",
    "\n",
    "from sklearn import preprocessing\n",
    "from sklearn.model_selection import train_test_split\n",
    "\n",
    "import tensorflow as tf\n",
    "from tensorflow.keras.callbacks import EarlyStopping\n",
    "from tensorflow.keras.preprocessing.text import Tokenizer\n",
    "from tensorflow.keras.preprocessing.sequence import pad_sequences"
   ]
  },
  {
   "cell_type": "code",
   "execution_count": 3,
   "id": "682b2dd9",
   "metadata": {
    "ExecuteTime": {
     "end_time": "2023-11-30T20:25:36.475533Z",
     "start_time": "2023-11-30T20:25:36.140757Z"
    }
   },
   "outputs": [
    {
     "data": {
      "text/plain": [
       "[PhysicalDevice(name='/physical_device:GPU:0', device_type='GPU')]"
      ]
     },
     "execution_count": 3,
     "metadata": {},
     "output_type": "execute_result"
    }
   ],
   "source": [
    "tf.config.list_physical_devices('GPU')"
   ]
  },
  {
   "cell_type": "code",
   "execution_count": 4,
   "id": "229ef186",
   "metadata": {
    "ExecuteTime": {
     "end_time": "2023-11-30T20:25:36.481216Z",
     "start_time": "2023-11-30T20:25:36.478052Z"
    }
   },
   "outputs": [],
   "source": [
    "BATCH_SIZE = 512  # Number of examples used in each iteration\n",
    "EPOCHS = 5  # Number of passes through entire dataset\n",
    "EMBEDDING = 40 # Dimension of word embedding vector\n",
    "RANDOM_STATE = 42"
   ]
  },
  {
   "cell_type": "markdown",
   "id": "a697b700",
   "metadata": {},
   "source": [
    "## Prepairing  and tokenize data"
   ]
  },
  {
   "cell_type": "code",
   "execution_count": 5,
   "id": "c887488e",
   "metadata": {
    "ExecuteTime": {
     "end_time": "2023-11-30T20:25:36.494061Z",
     "start_time": "2023-11-30T20:25:36.483006Z"
    }
   },
   "outputs": [],
   "source": [
    "df=pd.read_csv('dataset.csv')"
   ]
  },
  {
   "cell_type": "code",
   "execution_count": 6,
   "id": "4af902a6",
   "metadata": {
    "ExecuteTime": {
     "end_time": "2023-11-30T20:25:36.506537Z",
     "start_time": "2023-11-30T20:25:36.497253Z"
    }
   },
   "outputs": [
    {
     "data": {
      "text/html": [
       "<div>\n",
       "<style scoped>\n",
       "    .dataframe tbody tr th:only-of-type {\n",
       "        vertical-align: middle;\n",
       "    }\n",
       "\n",
       "    .dataframe tbody tr th {\n",
       "        vertical-align: top;\n",
       "    }\n",
       "\n",
       "    .dataframe thead th {\n",
       "        text-align: right;\n",
       "    }\n",
       "</style>\n",
       "<table border=\"1\" class=\"dataframe\">\n",
       "  <thead>\n",
       "    <tr style=\"text-align: right;\">\n",
       "      <th></th>\n",
       "      <th>Sentence</th>\n",
       "      <th>Word</th>\n",
       "      <th>Label</th>\n",
       "    </tr>\n",
       "  </thead>\n",
       "  <tbody>\n",
       "    <tr>\n",
       "      <th>0</th>\n",
       "      <td>1</td>\n",
       "      <td>The</td>\n",
       "      <td>0</td>\n",
       "    </tr>\n",
       "    <tr>\n",
       "      <th>1</th>\n",
       "      <td>1</td>\n",
       "      <td>Rocky</td>\n",
       "      <td>1</td>\n",
       "    </tr>\n",
       "    <tr>\n",
       "      <th>2</th>\n",
       "      <td>1</td>\n",
       "      <td>Mountains</td>\n",
       "      <td>0</td>\n",
       "    </tr>\n",
       "    <tr>\n",
       "      <th>3</th>\n",
       "      <td>1</td>\n",
       "      <td>is</td>\n",
       "      <td>0</td>\n",
       "    </tr>\n",
       "    <tr>\n",
       "      <th>4</th>\n",
       "      <td>1</td>\n",
       "      <td>an</td>\n",
       "      <td>0</td>\n",
       "    </tr>\n",
       "  </tbody>\n",
       "</table>\n",
       "</div>"
      ],
      "text/plain": [
       "   Sentence       Word  Label\n",
       "0         1        The      0\n",
       "1         1      Rocky      1\n",
       "2         1  Mountains      0\n",
       "3         1         is      0\n",
       "4         1         an      0"
      ]
     },
     "execution_count": 6,
     "metadata": {},
     "output_type": "execute_result"
    }
   ],
   "source": [
    "df.head()"
   ]
  },
  {
   "cell_type": "code",
   "execution_count": 7,
   "id": "8834b9c5",
   "metadata": {
    "ExecuteTime": {
     "end_time": "2023-11-30T20:25:36.522934Z",
     "start_time": "2023-11-30T20:25:36.508452Z"
    }
   },
   "outputs": [
    {
     "name": "stdout",
     "output_type": "stream",
     "text": [
      "<class 'pandas.core.frame.DataFrame'>\n",
      "RangeIndex: 4446 entries, 0 to 4445\n",
      "Data columns (total 3 columns):\n",
      " #   Column    Non-Null Count  Dtype \n",
      "---  ------    --------------  ----- \n",
      " 0   Sentence  4446 non-null   int64 \n",
      " 1   Word      4446 non-null   object\n",
      " 2   Label     4446 non-null   int64 \n",
      "dtypes: int64(2), object(1)\n",
      "memory usage: 104.3+ KB\n"
     ]
    }
   ],
   "source": [
    "df.info()"
   ]
  },
  {
   "cell_type": "code",
   "execution_count": 8,
   "id": "5661457e",
   "metadata": {
    "ExecuteTime": {
     "end_time": "2023-11-30T20:25:36.528807Z",
     "start_time": "2023-11-30T20:25:36.525149Z"
    }
   },
   "outputs": [
    {
     "data": {
      "text/plain": [
       "1299"
      ]
     },
     "execution_count": 8,
     "metadata": {},
     "output_type": "execute_result"
    }
   ],
   "source": [
    "df[\"Word\"].nunique()"
   ]
  },
  {
   "cell_type": "code",
   "execution_count": 9,
   "id": "d1dde9de",
   "metadata": {
    "ExecuteTime": {
     "end_time": "2023-11-30T20:25:36.535380Z",
     "start_time": "2023-11-30T20:25:36.530617Z"
    }
   },
   "outputs": [
    {
     "name": "stdout",
     "output_type": "stream",
     "text": [
      "Number of sentences are 205\n",
      "Number of Vocabs are 1299\n"
     ]
    }
   ],
   "source": [
    "print('Number of sentences are '+str(df['Sentence'].nunique()))\n",
    "print('Number of Vocabs are '+str(df['Word'].nunique()))"
   ]
  },
  {
   "cell_type": "code",
   "execution_count": 10,
   "id": "660c4f57",
   "metadata": {
    "ExecuteTime": {
     "end_time": "2023-11-30T20:25:36.550929Z",
     "start_time": "2023-11-30T20:25:36.537152Z"
    }
   },
   "outputs": [],
   "source": [
    "sentences = df.groupby(\"Sentence\")[\"Word\"].apply(list).values\n",
    "labels = df.groupby(\"Sentence\")[\"Label\"].apply(list).values"
   ]
  },
  {
   "cell_type": "code",
   "execution_count": 11,
   "id": "f214bc1c",
   "metadata": {
    "ExecuteTime": {
     "end_time": "2023-11-30T20:25:36.556727Z",
     "start_time": "2023-11-30T20:25:36.552712Z"
    }
   },
   "outputs": [
    {
     "data": {
      "text/plain": [
       "51"
      ]
     },
     "execution_count": 11,
     "metadata": {},
     "output_type": "execute_result"
    }
   ],
   "source": [
    "MAX_LEN = len(max(sentences, key=len))\n",
    "MAX_LEN"
   ]
  },
  {
   "cell_type": "code",
   "execution_count": 12,
   "id": "5648442f",
   "metadata": {
    "ExecuteTime": {
     "end_time": "2023-11-30T20:25:36.564366Z",
     "start_time": "2023-11-30T20:25:36.560973Z"
    }
   },
   "outputs": [],
   "source": [
    "train_data, val_data, train_labels, val_labels = train_test_split(sentences, labels, test_size=0.2, random_state=RANDOM_STATE)"
   ]
  },
  {
   "cell_type": "code",
   "execution_count": 13,
   "id": "c72255f8",
   "metadata": {
    "ExecuteTime": {
     "end_time": "2023-11-30T20:25:36.569775Z",
     "start_time": "2023-11-30T20:25:36.566338Z"
    }
   },
   "outputs": [],
   "source": [
    "def pad_labels(y):\n",
    "    tag = list()\n",
    "    for i in y:\n",
    "        tag.append(np.array(i + [0] * (MAX_LEN-len(i))))\n",
    "        \n",
    "    return np.array(tag)"
   ]
  },
  {
   "cell_type": "code",
   "execution_count": 14,
   "id": "7c71ac1a",
   "metadata": {
    "ExecuteTime": {
     "end_time": "2023-11-30T20:25:36.576628Z",
     "start_time": "2023-11-30T20:25:36.571561Z"
    }
   },
   "outputs": [],
   "source": [
    "y_train = pad_labels(train_labels)\n",
    "y_val = pad_labels(val_labels)"
   ]
  },
  {
   "cell_type": "code",
   "execution_count": 15,
   "id": "a5de0dfb",
   "metadata": {
    "ExecuteTime": {
     "end_time": "2023-11-30T20:25:36.581814Z",
     "start_time": "2023-11-30T20:25:36.579008Z"
    }
   },
   "outputs": [],
   "source": [
    "vocab_size = df[\"Word\"].nunique()\n",
    "oov = '<OOV>'\n",
    "padding = 'post'"
   ]
  },
  {
   "cell_type": "code",
   "execution_count": 16,
   "id": "000afc1f",
   "metadata": {
    "ExecuteTime": {
     "end_time": "2023-11-30T20:25:36.591087Z",
     "start_time": "2023-11-30T20:25:36.584187Z"
    }
   },
   "outputs": [],
   "source": [
    "# Fit Tokenizer\n",
    "tokenizer = Tokenizer(num_words=vocab_size, oov_token=oov)\n",
    "tokenizer.fit_on_texts(train_data)\n",
    "tokenizer.fit_on_texts(val_data)"
   ]
  },
  {
   "cell_type": "code",
   "execution_count": 17,
   "id": "9467b5a4",
   "metadata": {
    "ExecuteTime": {
     "end_time": "2023-11-30T20:25:36.600478Z",
     "start_time": "2023-11-30T20:25:36.593781Z"
    }
   },
   "outputs": [],
   "source": [
    "# Converting words into token sequences\n",
    "sequences_train = tokenizer.texts_to_sequences(train_data)\n",
    "sequences_val = tokenizer.texts_to_sequences(val_data)\n",
    "\n",
    "# Padded sequences to make them same length\n",
    "X_train = pad_sequences(sequences_train, padding=padding, maxlen=MAX_LEN)\n",
    "X_val = pad_sequences(sequences_val, padding=padding, maxlen=MAX_LEN)"
   ]
  },
  {
   "cell_type": "markdown",
   "id": "5912ca8b",
   "metadata": {},
   "source": [
    "## Creating model"
   ]
  },
  {
   "cell_type": "code",
   "execution_count": 18,
   "id": "2029099f",
   "metadata": {
    "ExecuteTime": {
     "end_time": "2023-11-30T20:25:38.791647Z",
     "start_time": "2023-11-30T20:25:36.603318Z"
    }
   },
   "outputs": [
    {
     "name": "stdout",
     "output_type": "stream",
     "text": [
      "Model: \"sequential\"\n",
      "_________________________________________________________________\n",
      " Layer (type)                Output Shape              Param #   \n",
      "=================================================================\n",
      " embedding (Embedding)       (None, 51, 300)           15300     \n",
      "                                                                 \n",
      " bidirectional (Bidirectiona  (None, 51, 256)          439296    \n",
      " l)                                                              \n",
      "                                                                 \n",
      " bidirectional_1 (Bidirectio  (None, 51, 256)          394240    \n",
      " nal)                                                            \n",
      "                                                                 \n",
      " dense (Dense)               (None, 51, 128)           32896     \n",
      "                                                                 \n",
      " dropout (Dropout)           (None, 51, 128)           0         \n",
      "                                                                 \n",
      " dense_1 (Dense)             (None, 51, 1)             129       \n",
      "                                                                 \n",
      "=================================================================\n",
      "Total params: 881,861\n",
      "Trainable params: 881,861\n",
      "Non-trainable params: 0\n",
      "_________________________________________________________________\n"
     ]
    }
   ],
   "source": [
    "embedding_dim = 300\n",
    "model = tf.keras.models.Sequential([\n",
    "    tf.keras.layers.Embedding(MAX_LEN, embedding_dim, input_length=MAX_LEN),\n",
    "    tf.keras.layers.Bidirectional(tf.keras.layers.LSTM(units=128, return_sequences=True)),\n",
    "    tf.keras.layers.Bidirectional(tf.keras.layers.LSTM(units=128, return_sequences=True)),\n",
    "    tf.keras.layers.Dense(128, activation='relu'),\n",
    "    tf.keras.layers.Dropout(0.2),\n",
    "    tf.keras.layers.Dense(1, activation='sigmoid')\n",
    "])\n",
    "\n",
    "model.summary()"
   ]
  },
  {
   "cell_type": "code",
   "execution_count": 19,
   "id": "49e8d278",
   "metadata": {
    "ExecuteTime": {
     "end_time": "2023-11-30T20:25:38.804611Z",
     "start_time": "2023-11-30T20:25:38.793514Z"
    }
   },
   "outputs": [],
   "source": [
    "model.compile(loss='binary_crossentropy',\n",
    "              optimizer='adam',\n",
    "              metrics=['accuracy'])"
   ]
  },
  {
   "cell_type": "code",
   "execution_count": 20,
   "id": "560e2521",
   "metadata": {
    "ExecuteTime": {
     "end_time": "2023-11-30T20:25:38.809203Z",
     "start_time": "2023-11-30T20:25:38.806105Z"
    }
   },
   "outputs": [],
   "source": [
    "# Checkpointing\n",
    "save_model = tf.keras.callbacks.ModelCheckpoint(filepath='ner.h5',\n",
    "  monitor='val_loss',\n",
    "  save_weights_only=True,\n",
    "  save_best_only=True,\n",
    "  verbose=1\n",
    ")"
   ]
  },
  {
   "cell_type": "code",
   "execution_count": 22,
   "id": "093a06bd",
   "metadata": {
    "ExecuteTime": {
     "end_time": "2023-11-30T20:25:38.822481Z",
     "start_time": "2023-11-30T20:25:38.817001Z"
    }
   },
   "outputs": [
    {
     "data": {
      "text/plain": [
       "((164, 51), (164, 51), (41, 51), (41, 51))"
      ]
     },
     "execution_count": 22,
     "metadata": {},
     "output_type": "execute_result"
    }
   ],
   "source": [
    "X_train.shape, y_train.shape, X_val.shape, y_val.shape"
   ]
  },
  {
   "cell_type": "code",
   "execution_count": 23,
   "id": "2113a40c",
   "metadata": {
    "ExecuteTime": {
     "end_time": "2023-11-30T20:26:16.081021Z",
     "start_time": "2023-11-30T20:25:38.824271Z"
    }
   },
   "outputs": [
    {
     "name": "stdout",
     "output_type": "stream",
     "text": [
      "Epoch 1/70\n",
      "6/6 [==============================] - ETA: 0s - loss: 0.5049 - accuracy: 0.8928\n",
      "Epoch 1: val_loss improved from inf to 0.05223, saving model to ner.h5\n",
      "6/6 [==============================] - 9s 349ms/step - loss: 0.5049 - accuracy: 0.8928 - val_loss: 0.0522 - val_accuracy: 0.9904\n",
      "Epoch 2/70\n",
      "6/6 [==============================] - ETA: 0s - loss: 0.0597 - accuracy: 0.9927\n",
      "Epoch 2: val_loss did not improve from 0.05223\n",
      "6/6 [==============================] - 1s 173ms/step - loss: 0.0597 - accuracy: 0.9927 - val_loss: 0.1022 - val_accuracy: 0.9904\n",
      "Epoch 3/70\n",
      "6/6 [==============================] - ETA: 0s - loss: 0.0668 - accuracy: 0.9927\n",
      "Epoch 3: val_loss did not improve from 0.05223\n",
      "6/6 [==============================] - 1s 170ms/step - loss: 0.0668 - accuracy: 0.9927 - val_loss: 0.0732 - val_accuracy: 0.9904\n",
      "Epoch 4/70\n",
      "6/6 [==============================] - ETA: 0s - loss: 0.0457 - accuracy: 0.9927\n",
      "Epoch 4: val_loss improved from 0.05223 to 0.05031, saving model to ner.h5\n",
      "6/6 [==============================] - 1s 141ms/step - loss: 0.0457 - accuracy: 0.9927 - val_loss: 0.0503 - val_accuracy: 0.9904\n",
      "Epoch 5/70\n",
      "6/6 [==============================] - ETA: 0s - loss: 0.0424 - accuracy: 0.9927\n",
      "Epoch 5: val_loss improved from 0.05031 to 0.04910, saving model to ner.h5\n",
      "6/6 [==============================] - 1s 139ms/step - loss: 0.0424 - accuracy: 0.9927 - val_loss: 0.0491 - val_accuracy: 0.9904\n",
      "Epoch 6/70\n",
      "5/6 [========================>.....] - ETA: 0s - loss: 0.0383 - accuracy: 0.9930\n",
      "Epoch 6: val_loss did not improve from 0.04910\n",
      "6/6 [==============================] - 1s 77ms/step - loss: 0.0397 - accuracy: 0.9927 - val_loss: 0.0519 - val_accuracy: 0.9904\n",
      "Epoch 7/70\n",
      "6/6 [==============================] - ETA: 0s - loss: 0.0384 - accuracy: 0.9927\n",
      "Epoch 7: val_loss improved from 0.04910 to 0.04798, saving model to ner.h5\n",
      "6/6 [==============================] - 1s 139ms/step - loss: 0.0384 - accuracy: 0.9927 - val_loss: 0.0480 - val_accuracy: 0.9904\n",
      "Epoch 8/70\n",
      "6/6 [==============================] - ETA: 0s - loss: 0.0374 - accuracy: 0.9927\n",
      "Epoch 8: val_loss improved from 0.04798 to 0.04640, saving model to ner.h5\n",
      "6/6 [==============================] - 1s 113ms/step - loss: 0.0374 - accuracy: 0.9927 - val_loss: 0.0464 - val_accuracy: 0.9904\n",
      "Epoch 9/70\n",
      "6/6 [==============================] - ETA: 0s - loss: 0.0372 - accuracy: 0.9927\n",
      "Epoch 9: val_loss improved from 0.04640 to 0.04566, saving model to ner.h5\n",
      "6/6 [==============================] - 1s 91ms/step - loss: 0.0372 - accuracy: 0.9927 - val_loss: 0.0457 - val_accuracy: 0.9904\n",
      "Epoch 10/70\n",
      "6/6 [==============================] - ETA: 0s - loss: 0.0353 - accuracy: 0.9927\n",
      "Epoch 10: val_loss did not improve from 0.04566\n",
      "6/6 [==============================] - 0s 69ms/step - loss: 0.0353 - accuracy: 0.9927 - val_loss: 0.0468 - val_accuracy: 0.9904\n",
      "Epoch 11/70\n",
      "6/6 [==============================] - ETA: 0s - loss: 0.0354 - accuracy: 0.9927\n",
      "Epoch 11: val_loss improved from 0.04566 to 0.04460, saving model to ner.h5\n",
      "6/6 [==============================] - 1s 91ms/step - loss: 0.0354 - accuracy: 0.9927 - val_loss: 0.0446 - val_accuracy: 0.9904\n",
      "Epoch 12/70\n",
      "6/6 [==============================] - ETA: 0s - loss: 0.0338 - accuracy: 0.9927\n",
      "Epoch 12: val_loss improved from 0.04460 to 0.04306, saving model to ner.h5\n",
      "6/6 [==============================] - 1s 114ms/step - loss: 0.0338 - accuracy: 0.9927 - val_loss: 0.0431 - val_accuracy: 0.9904\n",
      "Epoch 13/70\n",
      "5/6 [========================>.....] - ETA: 0s - loss: 0.0339 - accuracy: 0.9925\n",
      "Epoch 13: val_loss did not improve from 0.04306\n",
      "6/6 [==============================] - 0s 88ms/step - loss: 0.0332 - accuracy: 0.9927 - val_loss: 0.0444 - val_accuracy: 0.9904\n",
      "Epoch 14/70\n",
      "6/6 [==============================] - ETA: 0s - loss: 0.0325 - accuracy: 0.9927\n",
      "Epoch 14: val_loss did not improve from 0.04306\n",
      "6/6 [==============================] - 0s 84ms/step - loss: 0.0325 - accuracy: 0.9927 - val_loss: 0.0448 - val_accuracy: 0.9904\n",
      "Epoch 15/70\n",
      "6/6 [==============================] - ETA: 0s - loss: 0.0315 - accuracy: 0.9927\n",
      "Epoch 15: val_loss did not improve from 0.04306\n",
      "6/6 [==============================] - 1s 109ms/step - loss: 0.0315 - accuracy: 0.9927 - val_loss: 0.0454 - val_accuracy: 0.9904\n",
      "Epoch 16/70\n",
      "6/6 [==============================] - ETA: 0s - loss: 0.0303 - accuracy: 0.9927\n",
      "Epoch 16: val_loss did not improve from 0.04306\n",
      "6/6 [==============================] - 0s 61ms/step - loss: 0.0303 - accuracy: 0.9927 - val_loss: 0.0464 - val_accuracy: 0.9904\n",
      "Epoch 17/70\n",
      "6/6 [==============================] - ETA: 0s - loss: 0.0295 - accuracy: 0.9927\n",
      "Epoch 17: val_loss did not improve from 0.04306\n",
      "6/6 [==============================] - 1s 106ms/step - loss: 0.0295 - accuracy: 0.9927 - val_loss: 0.0457 - val_accuracy: 0.9904\n",
      "Epoch 18/70\n",
      "6/6 [==============================] - ETA: 0s - loss: 0.0285 - accuracy: 0.9927\n",
      "Epoch 18: val_loss did not improve from 0.04306\n",
      "6/6 [==============================] - 0s 68ms/step - loss: 0.0285 - accuracy: 0.9927 - val_loss: 0.0480 - val_accuracy: 0.9904\n",
      "Epoch 19/70\n",
      "6/6 [==============================] - ETA: 0s - loss: 0.0273 - accuracy: 0.9927\n",
      "Epoch 19: val_loss did not improve from 0.04306\n",
      "6/6 [==============================] - 1s 150ms/step - loss: 0.0273 - accuracy: 0.9927 - val_loss: 0.0485 - val_accuracy: 0.9904\n",
      "Epoch 20/70\n",
      "5/6 [========================>.....] - ETA: 0s - loss: 0.0266 - accuracy: 0.9925\n",
      "Epoch 20: val_loss did not improve from 0.04306\n",
      "6/6 [==============================] - 0s 46ms/step - loss: 0.0260 - accuracy: 0.9927 - val_loss: 0.0526 - val_accuracy: 0.9904\n",
      "Epoch 21/70\n",
      "6/6 [==============================] - ETA: 0s - loss: 0.0257 - accuracy: 0.9927\n",
      "Epoch 21: val_loss did not improve from 0.04306\n",
      "6/6 [==============================] - 0s 78ms/step - loss: 0.0257 - accuracy: 0.9927 - val_loss: 0.0513 - val_accuracy: 0.9904\n",
      "Epoch 22/70\n",
      "6/6 [==============================] - ETA: 0s - loss: 0.0243 - accuracy: 0.9927\n",
      "Epoch 22: val_loss did not improve from 0.04306\n",
      "6/6 [==============================] - 0s 80ms/step - loss: 0.0243 - accuracy: 0.9927 - val_loss: 0.0603 - val_accuracy: 0.9904\n",
      "Epoch 23/70\n",
      "6/6 [==============================] - ETA: 0s - loss: 0.0245 - accuracy: 0.9929\n",
      "Epoch 23: val_loss did not improve from 0.04306\n",
      "6/6 [==============================] - 0s 78ms/step - loss: 0.0245 - accuracy: 0.9929 - val_loss: 0.0441 - val_accuracy: 0.9914\n",
      "Epoch 24/70\n",
      "5/6 [========================>.....] - ETA: 0s - loss: 0.0238 - accuracy: 0.9942\n",
      "Epoch 24: val_loss did not improve from 0.04306\n",
      "6/6 [==============================] - 0s 80ms/step - loss: 0.0234 - accuracy: 0.9943 - val_loss: 0.0440 - val_accuracy: 0.9914\n",
      "Epoch 25/70\n",
      "6/6 [==============================] - ETA: 0s - loss: 0.0227 - accuracy: 0.9941\n",
      "Epoch 25: val_loss did not improve from 0.04306\n",
      "6/6 [==============================] - 1s 100ms/step - loss: 0.0227 - accuracy: 0.9941 - val_loss: 0.0441 - val_accuracy: 0.9919\n",
      "Epoch 26/70\n",
      "6/6 [==============================] - ETA: 0s - loss: 0.0216 - accuracy: 0.9944\n",
      "Epoch 26: val_loss did not improve from 0.04306\n",
      "6/6 [==============================] - 0s 88ms/step - loss: 0.0216 - accuracy: 0.9944 - val_loss: 0.0522 - val_accuracy: 0.9914\n",
      "Epoch 27/70\n",
      "5/6 [========================>.....] - ETA: 0s - loss: 0.0235 - accuracy: 0.9937\n",
      "Epoch 27: val_loss did not improve from 0.04306\n",
      "6/6 [==============================] - 0s 62ms/step - loss: 0.0230 - accuracy: 0.9939 - val_loss: 0.0543 - val_accuracy: 0.9914\n",
      "Epoch 28/70\n",
      "5/6 [========================>.....] - ETA: 0s - loss: 0.0198 - accuracy: 0.9950\n",
      "Epoch 28: val_loss did not improve from 0.04306\n",
      "6/6 [==============================] - 0s 58ms/step - loss: 0.0204 - accuracy: 0.9949 - val_loss: 0.0484 - val_accuracy: 0.9909\n",
      "Epoch 29/70\n",
      "5/6 [========================>.....] - ETA: 0s - loss: 0.0209 - accuracy: 0.9949\n",
      "Epoch 29: val_loss did not improve from 0.04306\n",
      "6/6 [==============================] - 0s 36ms/step - loss: 0.0205 - accuracy: 0.9950 - val_loss: 0.0618 - val_accuracy: 0.9914\n",
      "Epoch 30/70\n",
      "6/6 [==============================] - ETA: 0s - loss: 0.0209 - accuracy: 0.9945\n",
      "Epoch 30: val_loss did not improve from 0.04306\n",
      "6/6 [==============================] - 0s 57ms/step - loss: 0.0209 - accuracy: 0.9945 - val_loss: 0.0549 - val_accuracy: 0.9919\n"
     ]
    },
    {
     "name": "stdout",
     "output_type": "stream",
     "text": [
      "Epoch 31/70\n",
      "6/6 [==============================] - ETA: 0s - loss: 0.0182 - accuracy: 0.9953\n",
      "Epoch 31: val_loss did not improve from 0.04306\n",
      "6/6 [==============================] - 0s 59ms/step - loss: 0.0182 - accuracy: 0.9953 - val_loss: 0.0435 - val_accuracy: 0.9909\n",
      "Epoch 32/70\n",
      "6/6 [==============================] - ETA: 0s - loss: 0.0181 - accuracy: 0.9950\n",
      "Epoch 32: val_loss did not improve from 0.04306\n",
      "6/6 [==============================] - 1s 81ms/step - loss: 0.0181 - accuracy: 0.9950 - val_loss: 0.0486 - val_accuracy: 0.9914\n",
      "Epoch 33/70\n",
      "6/6 [==============================] - ETA: 0s - loss: 0.0171 - accuracy: 0.9956\n",
      "Epoch 33: val_loss did not improve from 0.04306\n",
      "6/6 [==============================] - 0s 79ms/step - loss: 0.0171 - accuracy: 0.9956 - val_loss: 0.0542 - val_accuracy: 0.9909\n",
      "Epoch 34/70\n",
      "5/6 [========================>.....] - ETA: 0s - loss: 0.0175 - accuracy: 0.9952\n",
      "Epoch 34: val_loss did not improve from 0.04306\n",
      "6/6 [==============================] - 0s 36ms/step - loss: 0.0171 - accuracy: 0.9953 - val_loss: 0.0576 - val_accuracy: 0.9919\n",
      "Epoch 35/70\n",
      "5/6 [========================>.....] - ETA: 0s - loss: 0.0161 - accuracy: 0.9956\n",
      "Epoch 35: val_loss did not improve from 0.04306\n",
      "6/6 [==============================] - 1s 98ms/step - loss: 0.0157 - accuracy: 0.9957 - val_loss: 0.0590 - val_accuracy: 0.9923\n",
      "Epoch 36/70\n",
      "6/6 [==============================] - ETA: 0s - loss: 0.0146 - accuracy: 0.9957\n",
      "Epoch 36: val_loss did not improve from 0.04306\n",
      "6/6 [==============================] - 0s 58ms/step - loss: 0.0146 - accuracy: 0.9957 - val_loss: 0.0548 - val_accuracy: 0.9919\n",
      "Epoch 37/70\n",
      "6/6 [==============================] - ETA: 0s - loss: 0.0147 - accuracy: 0.9964\n",
      "Epoch 37: val_loss did not improve from 0.04306\n",
      "6/6 [==============================] - 0s 59ms/step - loss: 0.0147 - accuracy: 0.9964 - val_loss: 0.0618 - val_accuracy: 0.9923\n",
      "Epoch 38/70\n",
      "5/6 [========================>.....] - ETA: 0s - loss: 0.0147 - accuracy: 0.9956\n",
      "Epoch 38: val_loss did not improve from 0.04306\n",
      "6/6 [==============================] - 0s 35ms/step - loss: 0.0144 - accuracy: 0.9957 - val_loss: 0.0569 - val_accuracy: 0.9919\n",
      "Epoch 39/70\n",
      "6/6 [==============================] - ETA: 0s - loss: 0.0130 - accuracy: 0.9962\n",
      "Epoch 39: val_loss did not improve from 0.04306\n",
      "6/6 [==============================] - 0s 77ms/step - loss: 0.0130 - accuracy: 0.9962 - val_loss: 0.0544 - val_accuracy: 0.9923\n",
      "Epoch 40/70\n",
      "5/6 [========================>.....] - ETA: 0s - loss: 0.0124 - accuracy: 0.9958\n",
      "Epoch 40: val_loss did not improve from 0.04306\n",
      "6/6 [==============================] - 0s 37ms/step - loss: 0.0123 - accuracy: 0.9958 - val_loss: 0.0540 - val_accuracy: 0.9919\n",
      "Epoch 41/70\n",
      "5/6 [========================>.....] - ETA: 0s - loss: 0.0115 - accuracy: 0.9960\n",
      "Epoch 41: val_loss did not improve from 0.04306\n",
      "6/6 [==============================] - 0s 38ms/step - loss: 0.0114 - accuracy: 0.9959 - val_loss: 0.0573 - val_accuracy: 0.9923\n",
      "Epoch 42/70\n",
      "4/6 [===================>..........] - ETA: 0s - loss: 0.0144 - accuracy: 0.9953\n",
      "Epoch 42: val_loss did not improve from 0.04306\n",
      "6/6 [==============================] - 0s 32ms/step - loss: 0.0127 - accuracy: 0.9961 - val_loss: 0.0569 - val_accuracy: 0.9928\n",
      "Epoch 43/70\n",
      "4/6 [===================>..........] - ETA: 0s - loss: 0.0116 - accuracy: 0.9962\n",
      "Epoch 43: val_loss did not improve from 0.04306\n",
      "6/6 [==============================] - 0s 32ms/step - loss: 0.0103 - accuracy: 0.9963 - val_loss: 0.0555 - val_accuracy: 0.9933\n",
      "Epoch 44/70\n",
      "5/6 [========================>.....] - ETA: 0s - loss: 0.0097 - accuracy: 0.9973\n",
      "Epoch 44: val_loss did not improve from 0.04306\n",
      "6/6 [==============================] - 0s 35ms/step - loss: 0.0095 - accuracy: 0.9974 - val_loss: 0.0527 - val_accuracy: 0.9928\n",
      "Epoch 45/70\n",
      "4/6 [===================>..........] - ETA: 0s - loss: 0.0105 - accuracy: 0.9963\n",
      "Epoch 45: val_loss did not improve from 0.04306\n",
      "6/6 [==============================] - 0s 54ms/step - loss: 0.0095 - accuracy: 0.9967 - val_loss: 0.0511 - val_accuracy: 0.9933\n",
      "Epoch 46/70\n",
      "5/6 [========================>.....] - ETA: 0s - loss: 0.0092 - accuracy: 0.9972\n",
      "Epoch 46: val_loss did not improve from 0.04306\n",
      "6/6 [==============================] - 0s 57ms/step - loss: 0.0093 - accuracy: 0.9971 - val_loss: 0.0571 - val_accuracy: 0.9933\n",
      "Epoch 47/70\n",
      "6/6 [==============================] - ETA: 0s - loss: 0.0104 - accuracy: 0.9968\n",
      "Epoch 47: val_loss did not improve from 0.04306\n",
      "6/6 [==============================] - 0s 56ms/step - loss: 0.0104 - accuracy: 0.9968 - val_loss: 0.0538 - val_accuracy: 0.9928\n",
      "Epoch 48/70\n",
      "5/6 [========================>.....] - ETA: 0s - loss: 0.0137 - accuracy: 0.9961\n",
      "Epoch 48: val_loss improved from 0.04306 to 0.03943, saving model to ner.h5\n",
      "6/6 [==============================] - 0s 38ms/step - loss: 0.0134 - accuracy: 0.9962 - val_loss: 0.0394 - val_accuracy: 0.9933\n",
      "Epoch 49/70\n",
      "6/6 [==============================] - ETA: 0s - loss: 0.0092 - accuracy: 0.9971\n",
      "Epoch 49: val_loss improved from 0.03943 to 0.03924, saving model to ner.h5\n",
      "6/6 [==============================] - 0s 59ms/step - loss: 0.0092 - accuracy: 0.9971 - val_loss: 0.0392 - val_accuracy: 0.9933\n",
      "Epoch 50/70\n",
      "6/6 [==============================] - ETA: 0s - loss: 0.0080 - accuracy: 0.9974\n",
      "Epoch 50: val_loss did not improve from 0.03924\n",
      "6/6 [==============================] - 0s 59ms/step - loss: 0.0080 - accuracy: 0.9974 - val_loss: 0.0501 - val_accuracy: 0.9933\n",
      "Epoch 51/70\n",
      "5/6 [========================>.....] - ETA: 0s - loss: 0.0078 - accuracy: 0.9975\n",
      "Epoch 51: val_loss did not improve from 0.03924\n",
      "6/6 [==============================] - 0s 37ms/step - loss: 0.0076 - accuracy: 0.9976 - val_loss: 0.0511 - val_accuracy: 0.9933\n",
      "Epoch 52/70\n",
      "5/6 [========================>.....] - ETA: 0s - loss: 0.0056 - accuracy: 0.9984\n",
      "Epoch 52: val_loss did not improve from 0.03924\n",
      "6/6 [==============================] - 0s 60ms/step - loss: 0.0067 - accuracy: 0.9981 - val_loss: 0.0533 - val_accuracy: 0.9933\n",
      "Epoch 53/70\n",
      "5/6 [========================>.....] - ETA: 0s - loss: 0.0071 - accuracy: 0.9975\n",
      "Epoch 53: val_loss did not improve from 0.03924\n",
      "6/6 [==============================] - 0s 34ms/step - loss: 0.0069 - accuracy: 0.9976 - val_loss: 0.0558 - val_accuracy: 0.9933\n",
      "Epoch 54/70\n",
      "5/6 [========================>.....] - ETA: 0s - loss: 0.0075 - accuracy: 0.9977\n",
      "Epoch 54: val_loss did not improve from 0.03924\n",
      "6/6 [==============================] - 0s 36ms/step - loss: 0.0076 - accuracy: 0.9976 - val_loss: 0.0533 - val_accuracy: 0.9933\n",
      "Epoch 55/70\n",
      "5/6 [========================>.....] - ETA: 0s - loss: 0.0062 - accuracy: 0.9978\n",
      "Epoch 55: val_loss did not improve from 0.03924\n",
      "6/6 [==============================] - 0s 35ms/step - loss: 0.0062 - accuracy: 0.9978 - val_loss: 0.0539 - val_accuracy: 0.9928\n",
      "Epoch 56/70\n",
      "5/6 [========================>.....] - ETA: 0s - loss: 0.0061 - accuracy: 0.9977\n",
      "Epoch 56: val_loss did not improve from 0.03924\n",
      "6/6 [==============================] - 0s 35ms/step - loss: 0.0059 - accuracy: 0.9977 - val_loss: 0.0583 - val_accuracy: 0.9928\n",
      "Epoch 57/70\n",
      "6/6 [==============================] - ETA: 0s - loss: 0.0056 - accuracy: 0.9984\n",
      "Epoch 57: val_loss did not improve from 0.03924\n",
      "6/6 [==============================] - 0s 57ms/step - loss: 0.0056 - accuracy: 0.9984 - val_loss: 0.0582 - val_accuracy: 0.9933\n",
      "Epoch 58/70\n",
      "6/6 [==============================] - ETA: 0s - loss: 0.0048 - accuracy: 0.9983\n",
      "Epoch 58: val_loss did not improve from 0.03924\n",
      "6/6 [==============================] - 0s 59ms/step - loss: 0.0048 - accuracy: 0.9983 - val_loss: 0.0481 - val_accuracy: 0.9938\n",
      "Epoch 59/70\n",
      "5/6 [========================>.....] - ETA: 0s - loss: 0.0045 - accuracy: 0.9980\n",
      "Epoch 59: val_loss did not improve from 0.03924\n",
      "6/6 [==============================] - 0s 42ms/step - loss: 0.0049 - accuracy: 0.9980 - val_loss: 0.0508 - val_accuracy: 0.9943\n",
      "Epoch 60/70\n",
      "5/6 [========================>.....] - ETA: 0s - loss: 0.0066 - accuracy: 0.9980\n",
      "Epoch 60: val_loss did not improve from 0.03924\n",
      "6/6 [==============================] - 0s 37ms/step - loss: 0.0064 - accuracy: 0.9981 - val_loss: 0.0429 - val_accuracy: 0.9933\n",
      "Epoch 61/70\n"
     ]
    },
    {
     "name": "stdout",
     "output_type": "stream",
     "text": [
      "5/6 [========================>.....] - ETA: 0s - loss: 0.0052 - accuracy: 0.9983\n",
      "Epoch 61: val_loss did not improve from 0.03924\n",
      "6/6 [==============================] - 0s 39ms/step - loss: 0.0056 - accuracy: 0.9982 - val_loss: 0.0614 - val_accuracy: 0.9928\n",
      "Epoch 62/70\n",
      "5/6 [========================>.....] - ETA: 0s - loss: 0.0033 - accuracy: 0.9994\n",
      "Epoch 62: val_loss did not improve from 0.03924\n",
      "6/6 [==============================] - 0s 36ms/step - loss: 0.0038 - accuracy: 0.9993 - val_loss: 0.0670 - val_accuracy: 0.9928\n",
      "Epoch 63/70\n",
      "5/6 [========================>.....] - ETA: 0s - loss: 0.0041 - accuracy: 0.9989\n",
      "Epoch 63: val_loss did not improve from 0.03924\n",
      "6/6 [==============================] - 0s 42ms/step - loss: 0.0041 - accuracy: 0.9989 - val_loss: 0.0679 - val_accuracy: 0.9928\n",
      "Epoch 64/70\n",
      "6/6 [==============================] - ETA: 0s - loss: 0.0043 - accuracy: 0.9983\n",
      "Epoch 64: val_loss did not improve from 0.03924\n",
      "6/6 [==============================] - 0s 56ms/step - loss: 0.0043 - accuracy: 0.9983 - val_loss: 0.0598 - val_accuracy: 0.9919\n",
      "Epoch 65/70\n",
      "6/6 [==============================] - ETA: 0s - loss: 0.0033 - accuracy: 0.9988\n",
      "Epoch 65: val_loss did not improve from 0.03924\n",
      "6/6 [==============================] - 1s 84ms/step - loss: 0.0033 - accuracy: 0.9988 - val_loss: 0.0632 - val_accuracy: 0.9938\n",
      "Epoch 66/70\n",
      "5/6 [========================>.....] - ETA: 0s - loss: 0.0031 - accuracy: 0.9988\n",
      "Epoch 66: val_loss did not improve from 0.03924\n",
      "6/6 [==============================] - 0s 37ms/step - loss: 0.0031 - accuracy: 0.9988 - val_loss: 0.0667 - val_accuracy: 0.9909\n",
      "Epoch 67/70\n",
      "6/6 [==============================] - ETA: 0s - loss: 0.0036 - accuracy: 0.9987\n",
      "Epoch 67: val_loss did not improve from 0.03924\n",
      "6/6 [==============================] - 0s 69ms/step - loss: 0.0036 - accuracy: 0.9987 - val_loss: 0.0671 - val_accuracy: 0.9923\n",
      "Epoch 68/70\n",
      "6/6 [==============================] - ETA: 0s - loss: 0.0036 - accuracy: 0.9984\n",
      "Epoch 68: val_loss did not improve from 0.03924\n",
      "6/6 [==============================] - 0s 67ms/step - loss: 0.0036 - accuracy: 0.9984 - val_loss: 0.0675 - val_accuracy: 0.9928\n",
      "Epoch 69/70\n",
      "5/6 [========================>.....] - ETA: 0s - loss: 0.0031 - accuracy: 0.9983\n",
      "Epoch 69: val_loss did not improve from 0.03924\n",
      "6/6 [==============================] - 0s 62ms/step - loss: 0.0031 - accuracy: 0.9983 - val_loss: 0.0625 - val_accuracy: 0.9923\n",
      "Epoch 70/70\n",
      "5/6 [========================>.....] - ETA: 0s - loss: 0.0033 - accuracy: 0.9988\n",
      "Epoch 70: val_loss did not improve from 0.03924\n",
      "6/6 [==============================] - 0s 38ms/step - loss: 0.0032 - accuracy: 0.9988 - val_loss: 0.0667 - val_accuracy: 0.9928\n"
     ]
    }
   ],
   "source": [
    "num_epochs = 70\n",
    "batch_size = 32\n",
    "history = model.fit(X_train, y_train, epochs=num_epochs, batch_size=batch_size, \n",
    "                    validation_data=(X_val, y_val), callbacks=[save_model], verbose=1)"
   ]
  },
  {
   "cell_type": "markdown",
   "id": "ca570f2e",
   "metadata": {},
   "source": [
    "## Evaluating"
   ]
  },
  {
   "cell_type": "code",
   "execution_count": 24,
   "id": "915c7927",
   "metadata": {
    "ExecuteTime": {
     "end_time": "2023-11-30T20:26:16.426178Z",
     "start_time": "2023-11-30T20:26:16.083002Z"
    }
   },
   "outputs": [
    {
     "data": {
      "text/plain": [
       "<matplotlib.legend.Legend at 0x7f2a6d1123a0>"
      ]
     },
     "execution_count": 24,
     "metadata": {},
     "output_type": "execute_result"
    },
    {
     "data": {
      "image/png": "[encoded data removed]",
      "text/plain": [
       "<Figure size 1500x1000 with 2 Axes>"
      ]
     },
     "metadata": {},
     "output_type": "display_data"
    }
   ],
   "source": [
    "plt.rcParams['figure.figsize'] = [15, 10]\n",
    "\n",
    "plt.subplot(121)\n",
    "plt.plot(history.history['loss'])\n",
    "plt.plot(history.history['val_loss'])\n",
    "plt.title('Model loss')\n",
    "plt.ylabel('loss')\n",
    "plt.xlabel('epoch')\n",
    "plt.legend(['train', 'test'], loc='upper left')\n",
    "\n",
    "plt.subplot(122)\n",
    "plt.plot(history.history['accuracy'])\n",
    "plt.plot(history.history['val_accuracy'])\n",
    "plt.title('Model Accuracy')\n",
    "plt.ylabel('accuracy')\n",
    "plt.xlabel('epoch')\n",
    "plt.legend(['train', 'test'], loc='upper left')\n",
    "\n",
    "# plt.show()"
   ]
  },
  {
   "cell_type": "code",
   "execution_count": 25,
   "id": "0a646c41",
   "metadata": {
    "ExecuteTime": {
     "end_time": "2023-11-30T20:26:16.432931Z",
     "start_time": "2023-11-30T20:26:16.428853Z"
    }
   },
   "outputs": [
    {
     "data": {
      "text/plain": [
       "(51,)"
      ]
     },
     "execution_count": 25,
     "metadata": {},
     "output_type": "execute_result"
    }
   ],
   "source": [
    "X_val[1].shape"
   ]
  },
  {
   "cell_type": "code",
   "execution_count": 99,
   "id": "1bfc46ef",
   "metadata": {
    "ExecuteTime": {
     "end_time": "2023-11-30T20:35:35.017725Z",
     "start_time": "2023-11-30T20:35:35.013195Z"
    }
   },
   "outputs": [],
   "source": [
    "sentence = 'The Rocky Mountains is an extensive mountain range located in western North America.'\n",
    "sentence = 'With a height of 4,810 meters, Mont Blanc is the Alps mesmerizing peak.'\n",
    "sentence = 'Mountains are generally less preferable for human habitation than lowlands, because of harsh weather and little level ground suitable for agriculture. While 7% of the land area of Earth is above 2,500 metres (8,200 ft),[10]: 14  only 140 million people live above that altitude[37] and only 20-30 million people above 3,000 metres (9,800 ft) elevation.[38] About half of mountain dwellers live in the Andes, Central Asia, and Africa.'\n",
    "sentence = 'Heights of mountains are typically measured above sea level. Using this metric, Mount Everest is the highest mountain on Earth, at 8,848 metres (29,029 ft).'\n",
    "sentence = 'There is no precise definition of surrounding base, but Denali, Mount Kilimanjaro and Nanga Parbat are possible candidates for the tallest mountain on land by this measure.'\n",
    "sentence = 'The summit of Chimborazo, Ecuador''s tallest mountain, is usually considered to be the farthest point from the Earth''s centre, although the southern summit of Peru''s tallest mountain, Huascarán, is another contender.'\n",
    "sentence = 'Mount Kilimanjaro is the largest non-shield volcano in terms of both base area (245 sq mi or 635 km2) and volume (1,150 cu mi or 4,793 km3).'\n",
    "sentence = 'The first recorded ascent of Mont Blanc was made in 1786 by two Chamonix mountain guides, Jacques Balmat and Michel-Gabriel Paccard.'\n",
    "\n",
    "words = list([nltk.word_tokenize(sentence)])\n",
    "sequences_text = tokenizer.texts_to_sequences(words)\n",
    "padded_text = pad_sequences(sequences_text, padding=padding, maxlen=MAX_LEN, truncating='post')"
   ]
  },
  {
   "cell_type": "code",
   "execution_count": 100,
   "id": "6f3b5f61",
   "metadata": {
    "ExecuteTime": {
     "end_time": "2023-11-30T20:35:36.561908Z",
     "start_time": "2023-11-30T20:35:36.557196Z"
    }
   },
   "outputs": [
    {
     "data": {
      "text/plain": [
       "array(['The', 'first', 'recorded', 'ascent', 'of', 'Mont', 'Blanc', 'was',\n",
       "       'made', 'in', '1786', 'by', 'two', 'Chamonix', 'mountain',\n",
       "       'guides', ',', 'Jacques', 'Balmat', 'and', 'Michel-Gabriel',\n",
       "       'Paccard', '.'], dtype='<U14')"
      ]
     },
     "execution_count": 100,
     "metadata": {},
     "output_type": "execute_result"
    }
   ],
   "source": [
    "np.squeeze(words)"
   ]
  },
  {
   "cell_type": "code",
   "execution_count": 101,
   "id": "0b4ae959",
   "metadata": {
    "ExecuteTime": {
     "end_time": "2023-11-30T20:35:39.499262Z",
     "start_time": "2023-11-30T20:35:39.421807Z"
    }
   },
   "outputs": [
    {
     "name": "stdout",
     "output_type": "stream",
     "text": [
      "1/1 [==============================] - 0s 39ms/step\n"
     ]
    }
   ],
   "source": [
    "pred = model.predict(padded_text)"
   ]
  },
  {
   "cell_type": "code",
   "execution_count": 102,
   "id": "28abf41f",
   "metadata": {
    "ExecuteTime": {
     "end_time": "2023-11-30T20:35:39.936516Z",
     "start_time": "2023-11-30T20:35:39.933361Z"
    }
   },
   "outputs": [],
   "source": [
    "# res = np.rint(np.squeeze(pred, axis=None)).astype(np.uint8) "
   ]
  },
  {
   "cell_type": "code",
   "execution_count": 103,
   "id": "081beb6e",
   "metadata": {
    "ExecuteTime": {
     "end_time": "2023-11-30T20:35:40.464240Z",
     "start_time": "2023-11-30T20:35:40.461532Z"
    }
   },
   "outputs": [],
   "source": [
    "res = np.squeeze(pred)"
   ]
  },
  {
   "cell_type": "code",
   "execution_count": 104,
   "id": "0a92fcd0",
   "metadata": {
    "ExecuteTime": {
     "end_time": "2023-11-30T20:35:41.001948Z",
     "start_time": "2023-11-30T20:35:40.997017Z"
    }
   },
   "outputs": [
    {
     "data": {
      "text/plain": [
       "array([3.78228608e-04, 6.38981641e-04, 7.23087811e-04, 1.03415386e-03,\n",
       "       5.24783973e-03, 9.15854990e-01, 9.61938739e-01, 4.08600550e-04,\n",
       "       1.00646510e-04, 4.16796411e-06, 6.60368278e-06, 9.02314753e-07,\n",
       "       6.05462083e-06, 1.25603365e-05, 8.34332212e-08, 2.64141136e-07,\n",
       "       7.01624714e-08, 1.88397479e-07, 1.00479201e-06, 9.00345682e-08,\n",
       "       4.23430834e-07, 3.75179047e-06, 2.65228351e-07, 1.14476384e-08,\n",
       "       1.32504907e-09, 2.26874727e-10, 5.80382097e-11, 2.17847181e-11,\n",
       "       1.12449338e-11, 7.34822446e-12, 5.63860547e-12, 4.80308024e-12,\n",
       "       4.37439711e-12, 4.15985996e-12, 4.07153434e-12, 4.06798683e-12,\n",
       "       4.13165465e-12, 4.25729807e-12, 4.44187742e-12, 4.67163547e-12,\n",
       "       4.90906361e-12, 5.09185966e-12, 5.15370906e-12, 5.05799092e-12,\n",
       "       4.81796200e-12, 4.49537629e-12, 4.19947280e-12, 4.16228033e-12,\n",
       "       5.36805322e-12, 2.00190940e-11, 1.18173282e-09], dtype=float32)"
      ]
     },
     "execution_count": 104,
     "metadata": {},
     "output_type": "execute_result"
    }
   ],
   "source": [
    "res"
   ]
  },
  {
   "cell_type": "code",
   "execution_count": 111,
   "id": "ab2c0c24",
   "metadata": {
    "ExecuteTime": {
     "end_time": "2023-11-30T20:39:43.704686Z",
     "start_time": "2023-11-30T20:39:43.701537Z"
    }
   },
   "outputs": [],
   "source": [
    "result = np.argwhere(res>0.5)"
   ]
  },
  {
   "cell_type": "code",
   "execution_count": 113,
   "id": "7dc964d0",
   "metadata": {
    "ExecuteTime": {
     "end_time": "2023-11-30T20:39:56.297256Z",
     "start_time": "2023-11-30T20:39:56.293093Z"
    }
   },
   "outputs": [
    {
     "data": {
      "text/plain": [
       "array([[  2, 225, 772, 360,   5, 270, 190,  37, 185,  10, 773,  38, 283,\n",
       "        774,  12, 775,   3, 776, 777,   6, 778, 779,   4,   0,   0,   0,\n",
       "          0,   0,   0,   0,   0,   0,   0,   0,   0,   0,   0,   0,   0,\n",
       "          0,   0,   0,   0,   0,   0,   0,   0,   0,   0,   0,   0]],\n",
       "      dtype=int32)"
      ]
     },
     "execution_count": 113,
     "metadata": {},
     "output_type": "execute_result"
    }
   ],
   "source": [
    "padded_text"
   ]
  },
  {
   "cell_type": "code",
   "execution_count": 120,
   "id": "7f14e433",
   "metadata": {
    "ExecuteTime": {
     "end_time": "2023-11-30T20:41:16.751871Z",
     "start_time": "2023-11-30T20:41:16.749009Z"
    }
   },
   "outputs": [],
   "source": [
    "text = np.squeeze(words)"
   ]
  },
  {
   "cell_type": "code",
   "execution_count": 121,
   "id": "830c6ce2",
   "metadata": {
    "ExecuteTime": {
     "end_time": "2023-11-30T20:41:17.535419Z",
     "start_time": "2023-11-30T20:41:17.532350Z"
    }
   },
   "outputs": [
    {
     "name": "stdout",
     "output_type": "stream",
     "text": [
      "Found mountains:\n",
      "Mont\n",
      "Blanc\n"
     ]
    }
   ],
   "source": [
    "if result.shape[0] > 0:\n",
    "        print(\"Found mountains:\")\n",
    "        for idx in result:\n",
    "            print(text[idx[0]])"
   ]
  },
  {
   "cell_type": "code",
   "execution_count": 30,
   "id": "304ed1da",
   "metadata": {
    "ExecuteTime": {
     "end_time": "2023-11-30T20:26:17.500085Z",
     "start_time": "2023-11-30T20:26:17.497421Z"
    }
   },
   "outputs": [],
   "source": [
    "# with open('tokenizer.pickle', 'wb') as handle:\n",
    "#     pickle.dump(tokenizer, handle, protocol=pickle.HIGHEST_PROTOCOL)\n",
    "\n",
    "# with open('tokenizer.pickle', 'rb') as handle:\n",
    "#     tokenizer = pickle.load(handle)"
   ]
  },
  {
   "cell_type": "code",
   "execution_count": 31,
   "id": "a66e9492",
   "metadata": {
    "ExecuteTime": {
     "end_time": "2023-11-30T20:26:17.507319Z",
     "start_time": "2023-11-30T20:26:17.501980Z"
    }
   },
   "outputs": [],
   "source": [
    "# model.save('ner_model.keras')"
   ]
  }
 ],
 "metadata": {
  "kernelspec": {
   "display_name": "Python 3 (ipykernel)",
   "language": "python",
   "name": "python3"
  },
  "language_info": {
   "codemirror_mode": {
    "name": "ipython",
    "version": 3
   },
   "file_extension": ".py",
   "mimetype": "text/x-python",
   "name": "python",
   "nbconvert_exporter": "python",
   "pygments_lexer": "ipython3",
   "version": "3.9.16"
  },
  "toc": {
   "base_numbering": 1,
   "nav_menu": {},
   "number_sections": true,
   "sideBar": true,
   "skip_h1_title": false,
   "title_cell": "Table of Contents",
   "title_sidebar": "Contents",
   "toc_cell": false,
   "toc_position": {},
   "toc_section_display": true,
   "toc_window_display": false
  }
 },
 "nbformat": 4,
 "nbformat_minor": 5
}
