{
 "cells": [
  {
   "cell_type": "code",
   "execution_count": 1,
   "id": "9f461085",
   "metadata": {
    "ExecuteTime": {
     "end_time": "2023-11-29T20:08:30.097313Z",
     "start_time": "2023-11-29T20:08:29.431512Z"
    }
   },
   "outputs": [],
   "source": [
    "import numpy as np\n",
    "import pandas as pd\n",
    "import nltk\n",
    "from nltk import tokenize\n",
    "# nltk.download('punkt')"
   ]
  },
  {
   "cell_type": "markdown",
   "id": "1073f32b",
   "metadata": {},
   "source": [
    "## Gathering data from different papers about mountains"
   ]
  },
  {
   "cell_type": "code",
   "execution_count": 2,
   "id": "280ed7ac",
   "metadata": {
    "ExecuteTime": {
     "end_time": "2023-11-29T20:08:33.717407Z",
     "start_time": "2023-11-29T20:08:33.713606Z"
    }
   },
   "outputs": [],
   "source": [
    "with open(\"papers_about_mountains.txt\",'r') as file:\n",
    "    text = file.read()"
   ]
  },
  {
   "cell_type": "code",
   "execution_count": 3,
   "id": "e17d7740",
   "metadata": {
    "ExecuteTime": {
     "end_time": "2023-11-29T20:08:33.908647Z",
     "start_time": "2023-11-29T20:08:33.904496Z"
    }
   },
   "outputs": [],
   "source": [
    "mountains = []\n",
    "with open(\"list_of_mountains.txt\",'r') as file: \n",
    "    for line in file:\n",
    "        if line.strip()!=\"\":\n",
    "            mountains.append(line.strip())"
   ]
  },
  {
   "cell_type": "code",
   "execution_count": 4,
   "id": "7c544b5c",
   "metadata": {
    "ExecuteTime": {
     "end_time": "2023-11-29T20:08:34.230965Z",
     "start_time": "2023-11-29T20:08:34.217364Z"
    }
   },
   "outputs": [],
   "source": [
    "sentences_list = tokenize.sent_tokenize(text)"
   ]
  },
  {
   "cell_type": "code",
   "execution_count": 5,
   "id": "482b633d",
   "metadata": {
    "ExecuteTime": {
     "end_time": "2023-11-29T20:08:35.175555Z",
     "start_time": "2023-11-29T20:08:35.153034Z"
    }
   },
   "outputs": [],
   "source": [
    "sentenses_num = []\n",
    "words_list = []\n",
    "labels = []\n",
    "for idx, sentence in enumerate(sentences_list):\n",
    "    words = nltk.word_tokenize(sentence)\n",
    "    for w in words:\n",
    "        words_list.append(w)\n",
    "        sentenses_num.append(idx+1)\n",
    "        labels.append(1 if w in mountains else 0)"
   ]
  },
  {
   "cell_type": "code",
   "execution_count": 6,
   "id": "0b7930d9",
   "metadata": {
    "ExecuteTime": {
     "end_time": "2023-11-29T20:08:38.409706Z",
     "start_time": "2023-11-29T20:08:38.406689Z"
    }
   },
   "outputs": [],
   "source": [
    "# dict_data = {}\n",
    "# dict_data['Sentence']=sentenses_num\n",
    "# dict_data['Word']=words_list\n",
    "# df = pd.DataFrame(dict_data)"
   ]
  },
  {
   "cell_type": "code",
   "execution_count": 7,
   "id": "7997ad40",
   "metadata": {
    "ExecuteTime": {
     "end_time": "2023-11-29T20:08:38.421255Z",
     "start_time": "2023-11-29T20:08:38.417747Z"
    }
   },
   "outputs": [],
   "source": [
    "# df['lable'] = df['Token'].isin(mountains).apply(lambda x: int(x))"
   ]
  },
  {
   "cell_type": "markdown",
   "id": "ed9e43a3",
   "metadata": {},
   "source": [
    "## Adding data from Kaggle NER dataset"
   ]
  },
  {
   "cell_type": "code",
   "execution_count": 8,
   "id": "34de0f55",
   "metadata": {
    "ExecuteTime": {
     "end_time": "2023-11-29T20:08:38.717009Z",
     "start_time": "2023-11-29T20:08:38.424777Z"
    }
   },
   "outputs": [],
   "source": [
    "ner_df = pd.read_csv('ner_dataset.csv', encoding= 'unicode_escape')"
   ]
  },
  {
   "cell_type": "code",
   "execution_count": 9,
   "id": "6a6b834d",
   "metadata": {
    "ExecuteTime": {
     "end_time": "2023-11-29T20:08:38.794445Z",
     "start_time": "2023-11-29T20:08:38.718755Z"
    }
   },
   "outputs": [],
   "source": [
    "ner_df['Sentence #']=ner_df['Sentence #'].ffill()\n",
    "ner_df=ner_df[['Sentence #','Word','Tag']]\n",
    "ner_df.rename(columns={'Sentence #':'Sentence','Word':'Token','Tag':'lable'},inplace=True)"
   ]
  },
  {
   "cell_type": "code",
   "execution_count": 10,
   "id": "90f3f5ea",
   "metadata": {
    "ExecuteTime": {
     "end_time": "2023-11-29T20:08:38.807470Z",
     "start_time": "2023-11-29T20:08:38.797155Z"
    }
   },
   "outputs": [
    {
     "data": {
      "text/html": [
       "<div>\n",
       "<style scoped>\n",
       "    .dataframe tbody tr th:only-of-type {\n",
       "        vertical-align: middle;\n",
       "    }\n",
       "\n",
       "    .dataframe tbody tr th {\n",
       "        vertical-align: top;\n",
       "    }\n",
       "\n",
       "    .dataframe thead th {\n",
       "        text-align: right;\n",
       "    }\n",
       "</style>\n",
       "<table border=\"1\" class=\"dataframe\">\n",
       "  <thead>\n",
       "    <tr style=\"text-align: right;\">\n",
       "      <th></th>\n",
       "      <th>Sentence</th>\n",
       "      <th>Token</th>\n",
       "      <th>lable</th>\n",
       "    </tr>\n",
       "  </thead>\n",
       "  <tbody>\n",
       "    <tr>\n",
       "      <th>0</th>\n",
       "      <td>Sentence: 1</td>\n",
       "      <td>Thousands</td>\n",
       "      <td>O</td>\n",
       "    </tr>\n",
       "    <tr>\n",
       "      <th>1</th>\n",
       "      <td>Sentence: 1</td>\n",
       "      <td>of</td>\n",
       "      <td>O</td>\n",
       "    </tr>\n",
       "    <tr>\n",
       "      <th>2</th>\n",
       "      <td>Sentence: 1</td>\n",
       "      <td>demonstrators</td>\n",
       "      <td>O</td>\n",
       "    </tr>\n",
       "    <tr>\n",
       "      <th>3</th>\n",
       "      <td>Sentence: 1</td>\n",
       "      <td>have</td>\n",
       "      <td>O</td>\n",
       "    </tr>\n",
       "    <tr>\n",
       "      <th>4</th>\n",
       "      <td>Sentence: 1</td>\n",
       "      <td>marched</td>\n",
       "      <td>O</td>\n",
       "    </tr>\n",
       "    <tr>\n",
       "      <th>...</th>\n",
       "      <td>...</td>\n",
       "      <td>...</td>\n",
       "      <td>...</td>\n",
       "    </tr>\n",
       "    <tr>\n",
       "      <th>1048570</th>\n",
       "      <td>Sentence: 47959</td>\n",
       "      <td>they</td>\n",
       "      <td>O</td>\n",
       "    </tr>\n",
       "    <tr>\n",
       "      <th>1048571</th>\n",
       "      <td>Sentence: 47959</td>\n",
       "      <td>responded</td>\n",
       "      <td>O</td>\n",
       "    </tr>\n",
       "    <tr>\n",
       "      <th>1048572</th>\n",
       "      <td>Sentence: 47959</td>\n",
       "      <td>to</td>\n",
       "      <td>O</td>\n",
       "    </tr>\n",
       "    <tr>\n",
       "      <th>1048573</th>\n",
       "      <td>Sentence: 47959</td>\n",
       "      <td>the</td>\n",
       "      <td>O</td>\n",
       "    </tr>\n",
       "    <tr>\n",
       "      <th>1048574</th>\n",
       "      <td>Sentence: 47959</td>\n",
       "      <td>attack</td>\n",
       "      <td>O</td>\n",
       "    </tr>\n",
       "  </tbody>\n",
       "</table>\n",
       "<p>1048575 rows × 3 columns</p>\n",
       "</div>"
      ],
      "text/plain": [
       "                Sentence          Token lable\n",
       "0            Sentence: 1      Thousands     O\n",
       "1            Sentence: 1             of     O\n",
       "2            Sentence: 1  demonstrators     O\n",
       "3            Sentence: 1           have     O\n",
       "4            Sentence: 1        marched     O\n",
       "...                  ...            ...   ...\n",
       "1048570  Sentence: 47959           they     O\n",
       "1048571  Sentence: 47959      responded     O\n",
       "1048572  Sentence: 47959             to     O\n",
       "1048573  Sentence: 47959            the     O\n",
       "1048574  Sentence: 47959         attack     O\n",
       "\n",
       "[1048575 rows x 3 columns]"
      ]
     },
     "execution_count": 10,
     "metadata": {},
     "output_type": "execute_result"
    }
   ],
   "source": [
    "ner_df"
   ]
  },
  {
   "cell_type": "code",
   "execution_count": 11,
   "id": "1fe56b6b",
   "metadata": {
    "ExecuteTime": {
     "end_time": "2023-11-29T20:08:38.813141Z",
     "start_time": "2023-11-29T20:08:38.809083Z"
    }
   },
   "outputs": [],
   "source": [
    "words = []\n",
    "with open('list_of_mountains.txt','r') as file_obj: \n",
    "    for line in file_obj:\n",
    "        if line.strip()!=\"\":\n",
    "            mountains = line.strip().split()\n",
    "            for m in mountains:\n",
    "                words.append(m)"
   ]
  },
  {
   "cell_type": "code",
   "execution_count": 12,
   "id": "ac3813af",
   "metadata": {
    "ExecuteTime": {
     "end_time": "2023-11-29T20:08:38.869929Z",
     "start_time": "2023-11-29T20:08:38.815378Z"
    }
   },
   "outputs": [
    {
     "data": {
      "text/html": [
       "<div>\n",
       "<style scoped>\n",
       "    .dataframe tbody tr th:only-of-type {\n",
       "        vertical-align: middle;\n",
       "    }\n",
       "\n",
       "    .dataframe tbody tr th {\n",
       "        vertical-align: top;\n",
       "    }\n",
       "\n",
       "    .dataframe thead th {\n",
       "        text-align: right;\n",
       "    }\n",
       "</style>\n",
       "<table border=\"1\" class=\"dataframe\">\n",
       "  <thead>\n",
       "    <tr style=\"text-align: right;\">\n",
       "      <th></th>\n",
       "      <th>Sentence</th>\n",
       "      <th>Token</th>\n",
       "      <th>lable</th>\n",
       "    </tr>\n",
       "  </thead>\n",
       "  <tbody>\n",
       "    <tr>\n",
       "      <th>15777</th>\n",
       "      <td>Sentence: 713</td>\n",
       "      <td>Moses</td>\n",
       "      <td>B-per</td>\n",
       "    </tr>\n",
       "    <tr>\n",
       "      <th>149887</th>\n",
       "      <td>Sentence: 6827</td>\n",
       "      <td>Everest</td>\n",
       "      <td>I-geo</td>\n",
       "    </tr>\n",
       "    <tr>\n",
       "      <th>149948</th>\n",
       "      <td>Sentence: 6831</td>\n",
       "      <td>Everest</td>\n",
       "      <td>I-geo</td>\n",
       "    </tr>\n",
       "    <tr>\n",
       "      <th>149971</th>\n",
       "      <td>Sentence: 6832</td>\n",
       "      <td>Everest</td>\n",
       "      <td>I-geo</td>\n",
       "    </tr>\n",
       "    <tr>\n",
       "      <th>406541</th>\n",
       "      <td>Sentence: 18573</td>\n",
       "      <td>Everest</td>\n",
       "      <td>I-org</td>\n",
       "    </tr>\n",
       "    <tr>\n",
       "      <th>515430</th>\n",
       "      <td>Sentence: 23572</td>\n",
       "      <td>Everest</td>\n",
       "      <td>I-geo</td>\n",
       "    </tr>\n",
       "    <tr>\n",
       "      <th>515479</th>\n",
       "      <td>Sentence: 23574</td>\n",
       "      <td>Everest</td>\n",
       "      <td>I-geo</td>\n",
       "    </tr>\n",
       "    <tr>\n",
       "      <th>515481</th>\n",
       "      <td>Sentence: 23575</td>\n",
       "      <td>Everest</td>\n",
       "      <td>B-geo</td>\n",
       "    </tr>\n",
       "    <tr>\n",
       "      <th>515526</th>\n",
       "      <td>Sentence: 23577</td>\n",
       "      <td>Everest</td>\n",
       "      <td>B-org</td>\n",
       "    </tr>\n",
       "    <tr>\n",
       "      <th>528558</th>\n",
       "      <td>Sentence: 24177</td>\n",
       "      <td>Alps</td>\n",
       "      <td>I-geo</td>\n",
       "    </tr>\n",
       "    <tr>\n",
       "      <th>541373</th>\n",
       "      <td>Sentence: 24768</td>\n",
       "      <td>Fuji</td>\n",
       "      <td>B-org</td>\n",
       "    </tr>\n",
       "    <tr>\n",
       "      <th>541393</th>\n",
       "      <td>Sentence: 24769</td>\n",
       "      <td>Fuji</td>\n",
       "      <td>B-org</td>\n",
       "    </tr>\n",
       "    <tr>\n",
       "      <th>541426</th>\n",
       "      <td>Sentence: 24771</td>\n",
       "      <td>Fuji</td>\n",
       "      <td>B-org</td>\n",
       "    </tr>\n",
       "    <tr>\n",
       "      <th>541477</th>\n",
       "      <td>Sentence: 24773</td>\n",
       "      <td>Fuji</td>\n",
       "      <td>B-org</td>\n",
       "    </tr>\n",
       "    <tr>\n",
       "      <th>732820</th>\n",
       "      <td>Sentence: 33494</td>\n",
       "      <td>Everest</td>\n",
       "      <td>I-geo</td>\n",
       "    </tr>\n",
       "    <tr>\n",
       "      <th>875749</th>\n",
       "      <td>Sentence: 40017</td>\n",
       "      <td>Blanc</td>\n",
       "      <td>I-per</td>\n",
       "    </tr>\n",
       "    <tr>\n",
       "      <th>906410</th>\n",
       "      <td>Sentence: 41408</td>\n",
       "      <td>Mousa</td>\n",
       "      <td>I-per</td>\n",
       "    </tr>\n",
       "    <tr>\n",
       "      <th>936076</th>\n",
       "      <td>Sentence: 42764</td>\n",
       "      <td>Complex</td>\n",
       "      <td>O</td>\n",
       "    </tr>\n",
       "    <tr>\n",
       "      <th>936105</th>\n",
       "      <td>Sentence: 42765</td>\n",
       "      <td>Complex</td>\n",
       "      <td>O</td>\n",
       "    </tr>\n",
       "  </tbody>\n",
       "</table>\n",
       "</div>"
      ],
      "text/plain": [
       "               Sentence    Token  lable\n",
       "15777     Sentence: 713    Moses  B-per\n",
       "149887   Sentence: 6827  Everest  I-geo\n",
       "149948   Sentence: 6831  Everest  I-geo\n",
       "149971   Sentence: 6832  Everest  I-geo\n",
       "406541  Sentence: 18573  Everest  I-org\n",
       "515430  Sentence: 23572  Everest  I-geo\n",
       "515479  Sentence: 23574  Everest  I-geo\n",
       "515481  Sentence: 23575  Everest  B-geo\n",
       "515526  Sentence: 23577  Everest  B-org\n",
       "528558  Sentence: 24177     Alps  I-geo\n",
       "541373  Sentence: 24768     Fuji  B-org\n",
       "541393  Sentence: 24769     Fuji  B-org\n",
       "541426  Sentence: 24771     Fuji  B-org\n",
       "541477  Sentence: 24773     Fuji  B-org\n",
       "732820  Sentence: 33494  Everest  I-geo\n",
       "875749  Sentence: 40017    Blanc  I-per\n",
       "906410  Sentence: 41408    Mousa  I-per\n",
       "936076  Sentence: 42764  Complex      O\n",
       "936105  Sentence: 42765  Complex      O"
      ]
     },
     "execution_count": 12,
     "metadata": {},
     "output_type": "execute_result"
    }
   ],
   "source": [
    "ner_df[ner_df['Token'].isin(words)]"
   ]
  },
  {
   "cell_type": "code",
   "execution_count": 13,
   "id": "3e1a16ef",
   "metadata": {
    "ExecuteTime": {
     "end_time": "2023-11-29T20:08:39.081782Z",
     "start_time": "2023-11-29T20:08:38.871612Z"
    }
   },
   "outputs": [
    {
     "name": "stderr",
     "output_type": "stream",
     "text": [
      "/tmp/ipykernel_15423/766366989.py:1: UserWarning: Boolean Series key will be reindexed to match DataFrame index.\n",
      "  raws = ner_df[ner_df['Token'].isin(words)][(ner_df['lable']=='I-geo') | (ner_df['lable']=='B-geo')]\n"
     ]
    }
   ],
   "source": [
    "raws = ner_df[ner_df['Token'].isin(words)][(ner_df['lable']=='I-geo') | (ner_df['lable']=='B-geo')]\n",
    "raws.lable = '1'\n",
    "ner_df.update(raws)"
   ]
  },
  {
   "cell_type": "code",
   "execution_count": 14,
   "id": "ff54a9fd",
   "metadata": {
    "ExecuteTime": {
     "end_time": "2023-11-29T20:08:39.155428Z",
     "start_time": "2023-11-29T20:08:39.083560Z"
    }
   },
   "outputs": [],
   "source": [
    "add_raws = ner_df[ner_df['Sentence'].isin(ner_df[ner_df['Token'].isin(words)]['Sentence'])]"
   ]
  },
  {
   "cell_type": "code",
   "execution_count": 15,
   "id": "9235e682",
   "metadata": {
    "ExecuteTime": {
     "end_time": "2023-11-29T20:08:39.162060Z",
     "start_time": "2023-11-29T20:08:39.157249Z"
    }
   },
   "outputs": [
    {
     "data": {
      "text/plain": [
       "array([['Sentence: 713', 'Moses', 'B-per'],\n",
       "       ['Sentence: 713', 'Bittok', 'I-per'],\n",
       "       ['Sentence: 713', 'probably', 'O'],\n",
       "       ...,\n",
       "       ['Sentence: 42765', 'National', 'I-org'],\n",
       "       ['Sentence: 42765', 'Monument', 'I-org'],\n",
       "       ['Sentence: 42765', '.', 'O']], dtype=object)"
      ]
     },
     "execution_count": 15,
     "metadata": {},
     "output_type": "execute_result"
    }
   ],
   "source": [
    "add_raws.values"
   ]
  },
  {
   "cell_type": "code",
   "execution_count": 16,
   "id": "f3b0ffc0",
   "metadata": {
    "ExecuteTime": {
     "end_time": "2023-11-29T20:08:39.169726Z",
     "start_time": "2023-11-29T20:08:39.165621Z"
    }
   },
   "outputs": [
    {
     "data": {
      "text/plain": [
       "(439, 3)"
      ]
     },
     "execution_count": 16,
     "metadata": {},
     "output_type": "execute_result"
    }
   ],
   "source": [
    "np.shape(add_raws.values)"
   ]
  },
  {
   "cell_type": "code",
   "execution_count": 17,
   "id": "9a6501e0",
   "metadata": {
    "ExecuteTime": {
     "end_time": "2023-11-29T20:08:39.176367Z",
     "start_time": "2023-11-29T20:08:39.171651Z"
    }
   },
   "outputs": [
    {
     "data": {
      "text/plain": [
       "186"
      ]
     },
     "execution_count": 17,
     "metadata": {},
     "output_type": "execute_result"
    }
   ],
   "source": [
    "max_sentense = np.max(sentenses_num)\n",
    "max_sentense"
   ]
  },
  {
   "cell_type": "code",
   "execution_count": 18,
   "id": "d593b16a",
   "metadata": {
    "ExecuteTime": {
     "end_time": "2023-11-29T20:08:39.181771Z",
     "start_time": "2023-11-29T20:08:39.178559Z"
    }
   },
   "outputs": [],
   "source": [
    "sentence_name = ''\n",
    "for raw in add_raws.values:\n",
    "    if raw[0]!=sentence_name:\n",
    "        sentence_name = raw[0]\n",
    "        max_sentense+=1\n",
    "        \n",
    "    sentenses_num.append(max_sentense)\n",
    "    words_list.append(raw[1])\n",
    "    labels.append(1 if raw[2]=='1' else 0)"
   ]
  },
  {
   "cell_type": "markdown",
   "id": "b6b6612e",
   "metadata": {},
   "source": [
    "## Creating dataset"
   ]
  },
  {
   "cell_type": "code",
   "execution_count": 19,
   "id": "08871fbc",
   "metadata": {
    "ExecuteTime": {
     "end_time": "2023-11-29T20:08:39.189867Z",
     "start_time": "2023-11-29T20:08:39.184266Z"
    }
   },
   "outputs": [],
   "source": [
    "dict_data = {}\n",
    "dict_data['Sentence']=sentenses_num\n",
    "dict_data['Word']=words_list\n",
    "dict_data['Label']=labels"
   ]
  },
  {
   "cell_type": "code",
   "execution_count": 20,
   "id": "543bbe18",
   "metadata": {
    "ExecuteTime": {
     "end_time": "2023-11-29T20:08:39.197755Z",
     "start_time": "2023-11-29T20:08:39.191756Z"
    }
   },
   "outputs": [],
   "source": [
    "df = pd.DataFrame(dict_data)"
   ]
  },
  {
   "cell_type": "code",
   "execution_count": 21,
   "id": "6d7844b3",
   "metadata": {
    "ExecuteTime": {
     "end_time": "2023-11-29T20:08:39.207993Z",
     "start_time": "2023-11-29T20:08:39.199746Z"
    }
   },
   "outputs": [
    {
     "data": {
      "text/html": [
       "<div>\n",
       "<style scoped>\n",
       "    .dataframe tbody tr th:only-of-type {\n",
       "        vertical-align: middle;\n",
       "    }\n",
       "\n",
       "    .dataframe tbody tr th {\n",
       "        vertical-align: top;\n",
       "    }\n",
       "\n",
       "    .dataframe thead th {\n",
       "        text-align: right;\n",
       "    }\n",
       "</style>\n",
       "<table border=\"1\" class=\"dataframe\">\n",
       "  <thead>\n",
       "    <tr style=\"text-align: right;\">\n",
       "      <th></th>\n",
       "      <th>Sentence</th>\n",
       "      <th>Word</th>\n",
       "      <th>Label</th>\n",
       "    </tr>\n",
       "  </thead>\n",
       "  <tbody>\n",
       "    <tr>\n",
       "      <th>0</th>\n",
       "      <td>1</td>\n",
       "      <td>The</td>\n",
       "      <td>0</td>\n",
       "    </tr>\n",
       "    <tr>\n",
       "      <th>1</th>\n",
       "      <td>1</td>\n",
       "      <td>Rocky</td>\n",
       "      <td>1</td>\n",
       "    </tr>\n",
       "    <tr>\n",
       "      <th>2</th>\n",
       "      <td>1</td>\n",
       "      <td>Mountains</td>\n",
       "      <td>0</td>\n",
       "    </tr>\n",
       "    <tr>\n",
       "      <th>3</th>\n",
       "      <td>1</td>\n",
       "      <td>is</td>\n",
       "      <td>0</td>\n",
       "    </tr>\n",
       "    <tr>\n",
       "      <th>4</th>\n",
       "      <td>1</td>\n",
       "      <td>an</td>\n",
       "      <td>0</td>\n",
       "    </tr>\n",
       "    <tr>\n",
       "      <th>...</th>\n",
       "      <td>...</td>\n",
       "      <td>...</td>\n",
       "      <td>...</td>\n",
       "    </tr>\n",
       "    <tr>\n",
       "      <th>4441</th>\n",
       "      <td>205</td>\n",
       "      <td>Papahanaumokuakea</td>\n",
       "      <td>0</td>\n",
       "    </tr>\n",
       "    <tr>\n",
       "      <th>4442</th>\n",
       "      <td>205</td>\n",
       "      <td>Marine</td>\n",
       "      <td>0</td>\n",
       "    </tr>\n",
       "    <tr>\n",
       "      <th>4443</th>\n",
       "      <td>205</td>\n",
       "      <td>National</td>\n",
       "      <td>0</td>\n",
       "    </tr>\n",
       "    <tr>\n",
       "      <th>4444</th>\n",
       "      <td>205</td>\n",
       "      <td>Monument</td>\n",
       "      <td>0</td>\n",
       "    </tr>\n",
       "    <tr>\n",
       "      <th>4445</th>\n",
       "      <td>205</td>\n",
       "      <td>.</td>\n",
       "      <td>0</td>\n",
       "    </tr>\n",
       "  </tbody>\n",
       "</table>\n",
       "<p>4446 rows × 3 columns</p>\n",
       "</div>"
      ],
      "text/plain": [
       "      Sentence               Word  Label\n",
       "0            1                The      0\n",
       "1            1              Rocky      1\n",
       "2            1          Mountains      0\n",
       "3            1                 is      0\n",
       "4            1                 an      0\n",
       "...        ...                ...    ...\n",
       "4441       205  Papahanaumokuakea      0\n",
       "4442       205             Marine      0\n",
       "4443       205           National      0\n",
       "4444       205           Monument      0\n",
       "4445       205                  .      0\n",
       "\n",
       "[4446 rows x 3 columns]"
      ]
     },
     "execution_count": 21,
     "metadata": {},
     "output_type": "execute_result"
    }
   ],
   "source": [
    "df"
   ]
  },
  {
   "cell_type": "code",
   "execution_count": 22,
   "id": "72c233ba",
   "metadata": {
    "ExecuteTime": {
     "end_time": "2023-11-29T20:08:39.216663Z",
     "start_time": "2023-11-29T20:08:39.209584Z"
    }
   },
   "outputs": [],
   "source": [
    "df.to_csv('dataset.csv', sep=',', header=True, index=None, encoding='utf-8') "
   ]
  }
 ],
 "metadata": {
  "kernelspec": {
   "display_name": "Python 3 (ipykernel)",
   "language": "python",
   "name": "python3"
  },
  "language_info": {
   "codemirror_mode": {
    "name": "ipython",
    "version": 3
   },
   "file_extension": ".py",
   "mimetype": "text/x-python",
   "name": "python",
   "nbconvert_exporter": "python",
   "pygments_lexer": "ipython3",
   "version": "3.9.16"
  },
  "toc": {
   "base_numbering": 1,
   "nav_menu": {},
   "number_sections": true,
   "sideBar": true,
   "skip_h1_title": false,
   "title_cell": "Table of Contents",
   "title_sidebar": "Contents",
   "toc_cell": false,
   "toc_position": {},
   "toc_section_display": true,
   "toc_window_display": false
  }
 },
 "nbformat": 4,
 "nbformat_minor": 5
}
