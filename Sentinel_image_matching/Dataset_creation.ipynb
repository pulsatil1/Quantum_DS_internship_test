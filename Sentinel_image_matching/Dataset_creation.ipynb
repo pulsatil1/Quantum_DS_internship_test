{
 "cells": [
  {
   "cell_type": "code",
   "execution_count": null,
   "id": "43c774cc",
   "metadata": {
    "ExecuteTime": {
     "end_time": "2023-11-27T19:28:09.472899Z",
     "start_time": "2023-11-27T19:28:09.343615Z"
    }
   },
   "outputs": [],
   "source": [
    "import os\n",
    "import shutil\n",
    "import numpy as np\n",
    "import cv2\n",
    "from PIL import Image"
   ]
  },
  {
   "cell_type": "code",
   "execution_count": null,
   "id": "8b5fe112",
   "metadata": {
    "ExecuteTime": {
     "end_time": "2023-11-27T19:28:10.147422Z",
     "start_time": "2023-11-27T19:28:10.144716Z"
    }
   },
   "outputs": [],
   "source": [
    "IMG_RESIZING = 5 # how many times the image size will reduced"
   ]
  },
  {
   "cell_type": "markdown",
   "id": "cd33754c",
   "metadata": {},
   "source": [
    "## Gathering all images"
   ]
  },
  {
   "cell_type": "code",
   "execution_count": null,
   "id": "040912a9",
   "metadata": {
    "ExecuteTime": {
     "end_time": "2023-11-27T19:28:11.827466Z",
     "start_time": "2023-11-27T19:28:11.824097Z"
    }
   },
   "outputs": [],
   "source": [
    "data_path = 'data/'\n",
    "new_data_path = 'satellite_images/'"
   ]
  },
  {
   "cell_type": "code",
   "execution_count": null,
   "id": "7d22a55b",
   "metadata": {
    "ExecuteTime": {
     "end_time": "2023-11-27T19:28:33.426670Z",
     "start_time": "2023-11-27T19:28:33.423601Z"
    }
   },
   "outputs": [],
   "source": [
    "if os.path.exists(new_data_path):\n",
    "    shutil.rmtree(new_data_path)\n",
    "        \n",
    "os.makedirs(new_data_path)"
   ]
  },
  {
   "cell_type": "code",
   "execution_count": null,
   "id": "4865ed34",
   "metadata": {
    "ExecuteTime": {
     "start_time": "2023-11-27T18:52:21.549Z"
    }
   },
   "outputs": [],
   "source": [
    "for dirpath, dirnames, filenames in os.walk(\".\"):\n",
    "    for filename in [f for f in filenames if f.endswith(\"TCI.jp2\")]:\n",
    "        filepath = os.path.join(dirpath, filename)\n",
    "        img = np.array(Image.open(filepath))\n",
    "        img = cv2.resize(img,(img.shape[0]//IMG_RESIZING,img.shape[1]//IMG_RESIZING))\n",
    "        img = cv2.cvtColor(img, cv2.COLOR_RGB2BGR) \n",
    "        new_path = os.path.join(new_data_path, filename.replace('.jp2', '.jpg'))\n",
    "        cv2.imwrite(new_path, img)"
   ]
  }
 ],
 "metadata": {
  "kernelspec": {
   "display_name": "Python 3 (ipykernel)",
   "language": "python",
   "name": "python3"
  },
  "language_info": {
   "codemirror_mode": {
    "name": "ipython",
    "version": 3
   },
   "file_extension": ".py",
   "mimetype": "text/x-python",
   "name": "python",
   "nbconvert_exporter": "python",
   "pygments_lexer": "ipython3",
   "version": "3.10.9"
  },
  "toc": {
   "base_numbering": 1,
   "nav_menu": {},
   "number_sections": true,
   "sideBar": true,
   "skip_h1_title": false,
   "title_cell": "Table of Contents",
   "title_sidebar": "Contents",
   "toc_cell": false,
   "toc_position": {},
   "toc_section_display": true,
   "toc_window_display": false
  }
 },
 "nbformat": 4,
 "nbformat_minor": 5
}
